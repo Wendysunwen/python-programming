{
 "cells": [
  {
   "cell_type": "markdown",
   "metadata": {},
   "source": [
    "# Python Programming\n",
    "\n",
    "**Chapter 3 : Conditions and Loops in Python** \n",
    "\n",
    "Python is a fun language to learn, and really easy to pick up even if you are new to programming. In fact, quite often, Python is easier to pick up if you do not have any programming experience whatsoever. Python is high level programming language, targeted at students and professionals from diverse backgrounds.\n",
    "\n",
    "In this chapter, we will cover\n",
    "- Conditional Statements\n",
    "- Loops or Iterations\n",
    "- Iterables\n",
    "- Break, Pass, Continue\n",
    "- Else in Loops\n",
    "- List Comprehension\n",
    "\n",
    "**License Declaration** : Following the lead from the inspirations for this material, and the *spirit* of Python education and development, all modules of this work are licensed under the Creative Commons Attribution 3.0 Unported License. To view a copy of this license, visit http://creativecommons.org/licenses/by/3.0/.\n",
    "\n",
    "---"
   ]
  },
  {
   "cell_type": "markdown",
   "metadata": {},
   "source": [
    "## Conditional Statements\n",
    "\n",
    "When we think of condition, `if-else` comes naturally to us. So does in any programming language.   \n",
    "Conditional Statements consist of two parts -- *Condition* and *Action*. In Python, it looks as follows.  \n",
    "The *Condition* in such cases can be any Boolean Logic that returns `True` or `False` in Python.   \n",
    "\n",
    "### If - Else\n",
    "> ```python\n",
    "> if CONDITION:\n",
    ">     SOME ACTION\n",
    ">     \n",
    "> else:\n",
    ">     SOME OTHER ACTION\n",
    "> \n",
    "> SOME UNCONDITIONAL ACTION\n",
    "> ```\n",
    "\n",
    "Note the use of **indentation** to mark a *block of code* in Python. This is crucial in Python programming.  \n",
    "The complete structure of a piece of code in Python is determinded by indentation. Be super-careful !   \n",
    "\n",
    "*Recommendation : Use consistent number of `spaces` (4 or 8) for the indentation, instead of `tabs`.*"
   ]
  },
  {
   "cell_type": "code",
   "execution_count": null,
   "metadata": {},
   "outputs": [],
   "source": [
    "# IF-ELSE Conditions in Python\n",
    "x = 5\n",
    "\n",
    "if x > 3:\n",
    "    print(x, \"is greater than\", 3)\n",
    "else:\n",
    "    print(x, \"is less than or equal to\", 3)\n",
    "    \n",
    "print(\"Nice, that seems to work!\")"
   ]
  },
  {
   "cell_type": "code",
   "execution_count": null,
   "metadata": {},
   "outputs": [],
   "source": [
    "# Just IF in Python\n",
    "x = 5\n",
    "\n",
    "if x > 3:\n",
    "    print(x, \"is greater than\", 3)"
   ]
  },
  {
   "cell_type": "markdown",
   "metadata": {},
   "source": [
    "### If - Else If - Else\n",
    "\n",
    "Slightly more complicated logic will require an `if-elif-else` control.\n",
    "\n",
    "> ```python\n",
    "> if CONDITION:\n",
    ">     SOME ACTION\n",
    ">     \n",
    "> elif CONDITION:\n",
    ">     SOME OTHER ACTION\n",
    ">     \n",
    "> else:\n",
    ">     SOME OTHER ACTION\n",
    "> \n",
    "> SOME UNCONDITIONAL ACTION\n",
    "> ```"
   ]
  },
  {
   "cell_type": "code",
   "execution_count": null,
   "metadata": {},
   "outputs": [],
   "source": [
    "# IF-ELIF-ELSE Conditions in Python\n",
    "x = 5\n",
    "\n",
    "if x > 3:\n",
    "    print(x, \"is greater than\", 3)\n",
    "elif x < 3:\n",
    "    print(x, \"is less than\", 3)\n",
    "else:\n",
    "    print(x, \"is equal to\", 3)\n",
    "    \n",
    "print(\"Nice, that seems to work too!\")"
   ]
  },
  {
   "cell_type": "markdown",
   "metadata": {},
   "source": [
    "### Nested Conditions\n",
    "\n",
    "You may also use a conditional control within another conditional routine.   \n",
    "Note the use of **indentation** in the following piece of code. Really crucial.\n",
    "\n",
    "> ```python\n",
    "> if FIRST CONDITION:\n",
    ">     FIRST ACTION\n",
    ">      \n",
    ">     if SECOND CONDITION:\n",
    ">         SECOND ACTION\n",
    ">     else:\n",
    ">         SECOND ALTERNATIVE ACTION\n",
    ">\n",
    "> else:\n",
    ">     FIRST ALTERNATIVE ACTION\n",
    ">      \n",
    ">     if THIRD CONDITION:\n",
    ">         THIRD ACTION\n",
    ">     else:\n",
    ">         THIRD ALTERNATIVE ACTION\n",
    ">\n",
    "> SOME UNCONDITIONAL ACTION\n",
    "> ```"
   ]
  },
  {
   "cell_type": "code",
   "execution_count": null,
   "metadata": {},
   "outputs": [],
   "source": [
    "# Nested Conditions in Python\n",
    "x = 5\n",
    "\n",
    "if x > 3:\n",
    "    print(x, \"is greater than\", 3)\n",
    "    \n",
    "    if x < 10:\n",
    "        print(x, \"is less than\", 10)\n",
    "    elif x > 10:\n",
    "        print(x, \"is greater than\", 10)\n",
    "    else:\n",
    "        print(x, \"is equal to\", 10)\n",
    "    \n",
    "elif x < 3:\n",
    "    print(x, \"is less than\", 3)\n",
    "    \n",
    "    if x < 0:\n",
    "        print(x, \"is less than\", 0)\n",
    "    elif x > 0:\n",
    "        print(x, \"is greater than\", 0)\n",
    "    else:\n",
    "        print(x, \"is equal to\", 0)\n",
    "    \n",
    "else:\n",
    "    print(x, \"is equal to\", 3)\n",
    "    \n",
    "print(\"Quite nice, again!\")"
   ]
  },
  {
   "cell_type": "markdown",
   "metadata": {},
   "source": [
    "#### Quick Tasks\n",
    "\n",
    "- Convert Marks (0 to 100) to Grade `A+` (90-100), `A` (80-89), `B` (70-79), `C` (60-69), `D` (50-59), `F` (< 50).   "
   ]
  },
  {
   "cell_type": "code",
   "execution_count": null,
   "metadata": {},
   "outputs": [],
   "source": []
  },
  {
   "cell_type": "code",
   "execution_count": null,
   "metadata": {},
   "outputs": [],
   "source": []
  },
  {
   "cell_type": "markdown",
   "metadata": {},
   "source": [
    "---\n",
    "\n",
    "## Loops or Iterations\n",
    "\n",
    "There are two ways to *repeat* a code-block in Python -- `while` and `for` loops.   \n",
    "`while` is a **condition-controlled** loop, and `for` is a **counter-controlled** loop.\n",
    "\n",
    "### While\n",
    "\n",
    "The *Condition* in `while` can be any Boolean Logic, returning `True` or `False`.\n",
    "\n",
    "> ```python\n",
    "> while CONDITION:\n",
    ">     TAKE THIS ACTION\n",
    "> \n",
    "> EXECUTE AFTER THE LOOP\n",
    "> ```"
   ]
  },
  {
   "cell_type": "code",
   "execution_count": null,
   "metadata": {},
   "outputs": [],
   "source": [
    "# While Loop\n",
    "x = 1\n",
    "while x < 10:\n",
    "    print(x**2)\n",
    "    x = x + 1\n",
    "\n",
    "print(\"Done!\")"
   ]
  },
  {
   "cell_type": "code",
   "execution_count": null,
   "metadata": {},
   "outputs": [],
   "source": [
    "# While Loop\n",
    "x = 2\n",
    "while x < 10:\n",
    "    print(x**2)\n",
    "    x = x**2\n",
    "\n",
    "print(\"Done!\")"
   ]
  },
  {
   "cell_type": "markdown",
   "metadata": {},
   "source": [
    "#### Quick Tasks\n",
    "\n",
    "- Print all Fibonacci numbers (`1,1,2,3,5,8,13,21,34,...`) below `1000`.    "
   ]
  },
  {
   "cell_type": "code",
   "execution_count": null,
   "metadata": {},
   "outputs": [],
   "source": []
  },
  {
   "cell_type": "code",
   "execution_count": null,
   "metadata": {},
   "outputs": [],
   "source": []
  },
  {
   "cell_type": "markdown",
   "metadata": {},
   "source": [
    "### For\n",
    "\n",
    "The *Iterable* in `for` can be any Python data structure that allows looping through *Elements*.\n",
    "\n",
    "> ```python\n",
    "> for ELEMENT in ITERABLE:\n",
    ">     TAKE THIS ACTION\n",
    "> \n",
    "> EXECUTE AFTER THE LOOP\n",
    "> ```"
   ]
  },
  {
   "cell_type": "code",
   "execution_count": null,
   "metadata": {},
   "outputs": [],
   "source": [
    "# Loop over a Range\n",
    "for x in range(10):\n",
    "    print(x**2)\n",
    "    x = x + 1\n",
    "\n",
    "print(\"Done!\")"
   ]
  },
  {
   "cell_type": "markdown",
   "metadata": {},
   "source": [
    "#### Quick Tasks\n",
    "\n",
    "- Print the Squares of positive numbers below `50` where the Squares are divisible by `3`.     \n",
    "- Print the first `100` Fibonacci numbers (`1,1,2,3,5,8,13,21,34,...`).    "
   ]
  },
  {
   "cell_type": "code",
   "execution_count": null,
   "metadata": {},
   "outputs": [],
   "source": []
  },
  {
   "cell_type": "code",
   "execution_count": null,
   "metadata": {},
   "outputs": [],
   "source": []
  },
  {
   "cell_type": "markdown",
   "metadata": {},
   "source": [
    "---\n",
    "\n",
    "## Iterables\n",
    "\n",
    "Iterables in Python involve Data Structures like Lists, Strings, Tuples, Sets, Dictionaries etc.     \n",
    "\n",
    "### Iterate over a List"
   ]
  },
  {
   "cell_type": "code",
   "execution_count": null,
   "metadata": {},
   "outputs": [],
   "source": [
    "# Loop over a List\n",
    "some_list = [10, 20, 30, 40, 50]\n",
    "\n",
    "for x in some_list:\n",
    "    print(x**2)\n",
    "\n",
    "print(\"Done!\")"
   ]
  },
  {
   "cell_type": "code",
   "execution_count": null,
   "metadata": {},
   "outputs": [],
   "source": [
    "# Loop over a List\n",
    "some_list = [\"a\", \"b\", \"c\", \"d\", \"e\"]\n",
    "\n",
    "for x in some_list:\n",
    "    print(10*x)\n",
    "\n",
    "print(\"Done!\")"
   ]
  },
  {
   "cell_type": "markdown",
   "metadata": {},
   "source": [
    "#### Quick Tasks\n",
    "\n",
    "- Check if there exists a specific number (`30`, say) in a given list `[10, 20, 30, 40, 50]`.     "
   ]
  },
  {
   "cell_type": "code",
   "execution_count": null,
   "metadata": {},
   "outputs": [],
   "source": []
  },
  {
   "cell_type": "code",
   "execution_count": null,
   "metadata": {},
   "outputs": [],
   "source": []
  },
  {
   "cell_type": "markdown",
   "metadata": {},
   "source": [
    "### Iterate over Nested Lists"
   ]
  },
  {
   "cell_type": "code",
   "execution_count": null,
   "metadata": {},
   "outputs": [],
   "source": [
    "# Loop over a List of Lists\n",
    "list_of_lists = [[1, 2, 3, 4, 5],\n",
    "                 [6, 7, 8, 9, 0],\n",
    "                 [0, 9, 8, 7, 6],\n",
    "                 [5, 4, 3, 2, 1]]\n",
    "\n",
    "for a_list in list_of_lists:\n",
    "    print(3 * a_list)\n",
    "\n",
    "print(\"Done!\")"
   ]
  },
  {
   "cell_type": "code",
   "execution_count": null,
   "metadata": {},
   "outputs": [],
   "source": [
    "# Nested Loop over a List of Lists\n",
    "list_of_lists = [[1, 2, 3, 4, 5],\n",
    "                 [6, 7, 8, 9, 0],\n",
    "                 [0, 9, 8, 7, 6],\n",
    "                 [5, 4, 3, 2, 1]]\n",
    "\n",
    "for a_list in list_of_lists:\n",
    "    for x in a_list:\n",
    "        print(x**2, end=\"\\t\")\n",
    "    print()\n",
    "\n",
    "print(\"Done!\")"
   ]
  },
  {
   "cell_type": "markdown",
   "metadata": {},
   "source": [
    "#### Quick Tasks\n",
    "\n",
    "- Merge/Flatten a given nested list of lists (may not be equal length sublists) into a single list.     "
   ]
  },
  {
   "cell_type": "code",
   "execution_count": null,
   "metadata": {},
   "outputs": [],
   "source": []
  },
  {
   "cell_type": "code",
   "execution_count": null,
   "metadata": {},
   "outputs": [],
   "source": []
  },
  {
   "cell_type": "markdown",
   "metadata": {},
   "source": [
    "### Iterate over a String"
   ]
  },
  {
   "cell_type": "code",
   "execution_count": null,
   "metadata": {},
   "outputs": [],
   "source": [
    "# Loop over a String\n",
    "some_line = \"Python @ NTU Singapore\"\n",
    "\n",
    "for x in some_line:\n",
    "    print(x, end=\" \")"
   ]
  },
  {
   "cell_type": "markdown",
   "metadata": {},
   "source": [
    "#### Quick Tasks\n",
    "\n",
    "- Check if there is any UPPERCASE character in a given String `\"Python is Fun!\"`.    \n",
    "- Check if there is any Speacial Character in a given String `\"Python is Fun!\"`.    \n",
    "- Check the \"strength\" of a Password `\"PythonIsFun!\"` as per pre-defined rules.    "
   ]
  },
  {
   "cell_type": "code",
   "execution_count": null,
   "metadata": {},
   "outputs": [],
   "source": []
  },
  {
   "cell_type": "code",
   "execution_count": null,
   "metadata": {},
   "outputs": [],
   "source": []
  },
  {
   "cell_type": "markdown",
   "metadata": {},
   "source": [
    "### Iterate over Tuples/Sets"
   ]
  },
  {
   "cell_type": "code",
   "execution_count": null,
   "metadata": {},
   "outputs": [],
   "source": [
    "# Loop over a Tuple\n",
    "some_tuple = (10, 20, 30, 40, 50)\n",
    "\n",
    "for x in some_tuple:\n",
    "    print(x**2)\n",
    "\n",
    "print(\"Done!\")"
   ]
  },
  {
   "cell_type": "code",
   "execution_count": null,
   "metadata": {},
   "outputs": [],
   "source": [
    "# Loop over a Set\n",
    "some_set = set([10, 20, 30, 40, 50])\n",
    "\n",
    "for x in some_set:\n",
    "    print(x**2)\n",
    "\n",
    "print(\"Done!\")"
   ]
  },
  {
   "cell_type": "code",
   "execution_count": null,
   "metadata": {},
   "outputs": [],
   "source": []
  },
  {
   "cell_type": "code",
   "execution_count": null,
   "metadata": {},
   "outputs": [],
   "source": []
  },
  {
   "cell_type": "markdown",
   "metadata": {},
   "source": [
    "### Iterate over a Dictionary\n",
    "\n",
    "Most common **Dictionary Iterables** in Python are `keys()`, `values()` and `items()` in a Dictionary."
   ]
  },
  {
   "cell_type": "code",
   "execution_count": null,
   "metadata": {},
   "outputs": [],
   "source": [
    "# Loop over all Keys in a Dictionary\n",
    "some_dict = { \"UCL\": [\"London\", 500], \"MIT\": [\"Cambridge\", 2000] , \"NTU\": [\"Singapore\", 5000] }\n",
    "\n",
    "for x in some_dict.keys():\n",
    "    print(x)"
   ]
  },
  {
   "cell_type": "code",
   "execution_count": null,
   "metadata": {},
   "outputs": [],
   "source": [
    "# Loop over all Values in a Dictionary\n",
    "some_dict = { \"UCL\": [\"London UK\", 500], \"MIT\": [\"Cambridge\", 2000] , \"NTU\": [\"Singapore\", 5000] }\n",
    "\n",
    "for x in some_dict.values():\n",
    "    print(x)"
   ]
  },
  {
   "cell_type": "code",
   "execution_count": null,
   "metadata": {},
   "outputs": [],
   "source": [
    "# Nested Loop over Values in a Dictionary\n",
    "some_dict = { \"UCL\": [\"London UK\", 500], \"MIT\": [\"Cambridge\", 2000] , \"NTU\": [\"Singapore\", 5000] }\n",
    "\n",
    "for x in some_dict.values():\n",
    "    for y in x:\n",
    "        print(y, end=\"\\t\")\n",
    "    print()"
   ]
  },
  {
   "cell_type": "code",
   "execution_count": null,
   "metadata": {},
   "outputs": [],
   "source": [
    "# Loop over all Items in a Dictionary\n",
    "some_dict = { \"UCL\": [\"London UK\", 500], \"MIT\": [\"Cambridge\", 2000] , \"NTU\": [\"Singapore\", 5000] }\n",
    "\n",
    "for x in some_dict.items():\n",
    "    print(x)"
   ]
  },
  {
   "cell_type": "code",
   "execution_count": null,
   "metadata": {},
   "outputs": [],
   "source": [
    "# Loop over all (Key, Value) pairs in a Dictionary\n",
    "some_dict = { \"UCL\": [\"London UK\", 500], \"MIT\": [\"Cambridge\", 2000] , \"NTU\": [\"Singapore\", 5000] }\n",
    "\n",
    "for k, v in some_dict.items():\n",
    "    print(\"Key :\", k, \"\\t Value :\", v)"
   ]
  },
  {
   "cell_type": "markdown",
   "metadata": {},
   "source": [
    "#### Quick Tasks\n",
    "\n",
    "- Create the list of number of students `[500, 2000, 5000]` from the dictionary `some_dict = { \"UCL\": [\"London UK\", 500], \"MIT\": [\"Cambridge\", 2000] , \"NTU\": [\"Singapore\", 5000] }`."
   ]
  },
  {
   "cell_type": "code",
   "execution_count": null,
   "metadata": {},
   "outputs": [],
   "source": []
  },
  {
   "cell_type": "code",
   "execution_count": null,
   "metadata": {},
   "outputs": [],
   "source": []
  },
  {
   "cell_type": "markdown",
   "metadata": {},
   "source": [
    "---\n",
    "\n",
    "## Break, Pass, Continue\n",
    "\n",
    "Loops in Python have additional fine-grain control using `break`, `pass` and `continue` commands."
   ]
  },
  {
   "cell_type": "code",
   "execution_count": null,
   "metadata": {},
   "outputs": [],
   "source": [
    "# Break, Pass and Continue\n",
    "x = 5\n",
    "\n",
    "while x <= 9:    \n",
    "    x = x + 1\n",
    "    \n",
    "    if x == 8:\n",
    "        print(\"first \\t\", x)\n",
    "        continue\n",
    "    else:\n",
    "        print(\"second \\t\", x)\n",
    "        pass\n",
    "    \n",
    "    print(\"fourth \\t\", x)\n",
    "\n",
    "print(\"last \\t\", x)"
   ]
  },
  {
   "cell_type": "code",
   "execution_count": null,
   "metadata": {},
   "outputs": [],
   "source": []
  },
  {
   "cell_type": "code",
   "execution_count": null,
   "metadata": {},
   "outputs": [],
   "source": []
  },
  {
   "cell_type": "markdown",
   "metadata": {},
   "source": [
    "---\n",
    "\n",
    "## Else in Loops\n",
    "\n",
    "In case the Loops end *normally*, you may invoke an `else` clause after the loop."
   ]
  },
  {
   "cell_type": "code",
   "execution_count": null,
   "metadata": {},
   "outputs": [],
   "source": [
    "# Else in a Loop\n",
    "x = 5\n",
    "\n",
    "while x <= 9:    \n",
    "    x = x + 1\n",
    "    \n",
    "    if x == 8:\n",
    "        print(\"first \\t\", x)\n",
    "        continue\n",
    "    else:\n",
    "        print(\"second \\t\", x)\n",
    "        pass\n",
    "    \n",
    "    print(\"fourth \\t\", x)\n",
    "\n",
    "else:\n",
    "    print(\"fifth \\t\", x)\n",
    "    \n",
    "print(\"last \\t\", x)"
   ]
  },
  {
   "cell_type": "markdown",
   "metadata": {},
   "source": [
    "#### Quick Tasks\n",
    "\n",
    "- Create a list of all Prime numbers below `100`.  "
   ]
  },
  {
   "cell_type": "code",
   "execution_count": null,
   "metadata": {},
   "outputs": [],
   "source": []
  },
  {
   "cell_type": "code",
   "execution_count": null,
   "metadata": {},
   "outputs": [],
   "source": []
  },
  {
   "cell_type": "markdown",
   "metadata": {},
   "source": [
    "---\n",
    "\n",
    "## List Comprehension\n",
    "\n",
    "No discussion on Python loops is complete without talking about List Comprehension. It's one of the coolest things in Python!"
   ]
  },
  {
   "cell_type": "code",
   "execution_count": null,
   "metadata": {},
   "outputs": [],
   "source": [
    "# Without List Comprehension\n",
    "num_list = [1, 2, 3, 4, 5]\n",
    "sqr_list = []\n",
    "for x in num_list:\n",
    "    y = x**2\n",
    "    sqr_list.append(y)\n",
    "    \n",
    "print(\"Squares of\", num_list, \"are\", sqr_list)"
   ]
  },
  {
   "cell_type": "code",
   "execution_count": null,
   "metadata": {},
   "outputs": [],
   "source": [
    "# With List Comprehension\n",
    "num_list = [1, 2, 3, 4, 5]\n",
    "sqr_list = [x**2 for x in num_list]\n",
    "\n",
    "print(\"Squares of\", num_list, \"are\", sqr_list)"
   ]
  },
  {
   "cell_type": "code",
   "execution_count": null,
   "metadata": {},
   "outputs": [],
   "source": [
    "# List Comprehension with Condition\n",
    "spc_list = [x**2 for x in range(1,50) if x**2 % 3 == 0]\n",
    "\n",
    "print(\"List of squares of positive numbers below 50 where the Squares are divisible by 3.\")\n",
    "print(spc_list)"
   ]
  },
  {
   "cell_type": "markdown",
   "metadata": {},
   "source": [
    "#### Quick Tasks\n",
    "\n",
    "- Merge/Flatten a given nested list of lists (may not be equal length sublists) into a single list using list comprehension.     \n",
    "- Create the list of number of students `[500, 2000, 5000]` from the dictionary `some_dict = { \"UCL\": [\"London UK\", 500], \"MIT\": [\"Cambridge\", 2000] , \"NTU\": [\"Singapore\", 5000] }` using list comprehension."
   ]
  },
  {
   "cell_type": "code",
   "execution_count": null,
   "metadata": {},
   "outputs": [],
   "source": []
  },
  {
   "cell_type": "code",
   "execution_count": null,
   "metadata": {},
   "outputs": [],
   "source": []
  }
 ],
 "metadata": {
  "kernelspec": {
   "display_name": "Python 3",
   "language": "python",
   "name": "python3"
  },
  "language_info": {
   "codemirror_mode": {
    "name": "ipython",
    "version": 3
   },
   "file_extension": ".py",
   "mimetype": "text/x-python",
   "name": "python",
   "nbconvert_exporter": "python",
   "pygments_lexer": "ipython3",
   "version": "3.8.3"
  }
 },
 "nbformat": 4,
 "nbformat_minor": 2
}
