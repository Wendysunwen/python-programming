{
 "cells": [
  {
   "cell_type": "markdown",
   "metadata": {},
   "source": [
    "# Python Programming\n",
    "\n",
    "**Chapter 4 : Functions and Modules in Python** \n",
    "\n",
    "Python is a fun language to learn, and really easy to pick up even if you are new to programming. In fact, quite often, Python is easier to pick up if you do not have any programming experience whatsoever. Python is high level programming language, targeted at students and professionals from diverse backgrounds.\n",
    "\n",
    "In this chapter, we will cover\n",
    "- Input and Output\n",
    "- Functions Definition\n",
    "- Recursion\n",
    "- Arguments\n",
    "- Lambda Functions\n",
    "- Importing Modules\n",
    "\n",
    "**License Declaration** : Following the lead from the inspirations for this material, and the *spirit* of Python education and development, all modules of this work are licensed under the Creative Commons Attribution 3.0 Unported License. To view a copy of this license, visit http://creativecommons.org/licenses/by/3.0/.\n",
    "\n",
    "---"
   ]
  },
  {
   "cell_type": "markdown",
   "metadata": {},
   "source": [
    "## Input and Output\n",
    "\n",
    "The Python functions of prime importance are `input()` and `print()` -- essential for any User Interface."
   ]
  },
  {
   "cell_type": "code",
   "execution_count": null,
   "metadata": {},
   "outputs": [],
   "source": [
    "# User Input in Python\n",
    "uip = input(\"Enter your name, please : \")\n",
    "print(uip, \"is of type\", type(uip))"
   ]
  },
  {
   "cell_type": "code",
   "execution_count": null,
   "metadata": {},
   "outputs": [],
   "source": [
    "# User Input in Python\n",
    "uip = input(\"Enter a number, please : \")\n",
    "print(uip, \"is of type\", type(uip))"
   ]
  },
  {
   "cell_type": "markdown",
   "metadata": {},
   "source": [
    "Note that any user input taken using `input()` is a Python String.   \n",
    "You'll have to convert the input to the desired format, if so required."
   ]
  },
  {
   "cell_type": "code",
   "execution_count": null,
   "metadata": {},
   "outputs": [],
   "source": [
    "# User Input to Integer\n",
    "uip = input(\"Enter a number, please : \")\n",
    "x = int(uip)\n",
    "print(x, \"is of type\", type(x))"
   ]
  },
  {
   "cell_type": "code",
   "execution_count": null,
   "metadata": {},
   "outputs": [],
   "source": [
    "# User Input to List\n",
    "uip = input(\"Enter a list of numbers, please : \")\n",
    "x = list(uip)\n",
    "print(x, \"is of type\", type(x))\n",
    "\n",
    "print()\n",
    "for y in x:\n",
    "    print(10*y)"
   ]
  },
  {
   "cell_type": "markdown",
   "metadata": {},
   "source": [
    "As you see above, not all conversions from a String work well.   \n",
    "In such cases, Python uses a magic function called `eval()`."
   ]
  },
  {
   "cell_type": "code",
   "execution_count": null,
   "metadata": {},
   "outputs": [],
   "source": [
    "# User Input to List\n",
    "uip = input(\"Enter a list of numbers, please : \")\n",
    "x = eval(uip)\n",
    "print(x, \"is of type\", type(x))\n",
    "\n",
    "print()\n",
    "for y in x:\n",
    "    print(10*y)"
   ]
  },
  {
   "cell_type": "markdown",
   "metadata": {},
   "source": [
    "You've seen simple `print()` before. There are multiple ways of printing an output in Python."
   ]
  },
  {
   "cell_type": "code",
   "execution_count": null,
   "metadata": {},
   "outputs": [],
   "source": [
    "# Print in Python\n",
    "print(\"Hello folks! It's almost\", 8, \"pm.\")\n",
    "\n",
    "print(\"Hello folks!\", end=\" \")\n",
    "print(\"It's almost\", end=\" \")\n",
    "print(8, end=\" \")\n",
    "print(\"pm.\")\n",
    "\n",
    "print(\"Hello folks! It's almost {0} pm.\".format(8))\n",
    "\n",
    "print(\"Hello folks! It's almost {a} pm.\".format(a = 8))"
   ]
  },
  {
   "cell_type": "code",
   "execution_count": null,
   "metadata": {},
   "outputs": [],
   "source": [
    "# Complex Format for Print\n",
    "price_list = {1: 24.5, 2: 34, 3: 105, 4: 234.5, 5: 10}\n",
    "\n",
    "for item, price in price_list.items():\n",
    "    print(\"Item Code: {i:2d},  Price: {p:4.2f}\".format(i = item, p = price))"
   ]
  },
  {
   "cell_type": "markdown",
   "metadata": {},
   "source": [
    "#### Quick Tasks\n",
    "\n",
    "- Create a Temperature converter with user input format `32 C to F` or `98.6 F to C`.   "
   ]
  },
  {
   "cell_type": "code",
   "execution_count": null,
   "metadata": {},
   "outputs": [],
   "source": []
  },
  {
   "cell_type": "code",
   "execution_count": null,
   "metadata": {},
   "outputs": [],
   "source": []
  },
  {
   "cell_type": "markdown",
   "metadata": {},
   "source": [
    "---\n",
    "\n",
    "## Function Definition\n",
    "\n",
    "Functions may be user defined in Python, to perform repetitive jobs, and to modularize the code. The following syntax for defining a function is read as \"Function named FUNCTION_NAME takes N input arguments ARG_1, ARG_2, ..., ARG_N and after executing the CODE BLOCK, it returns SOMETHING\".\n",
    "\n",
    "> ```python\n",
    "> def FUNCTION_NAME( ARG_1, ARG_2, ..., ARG_N ):\n",
    ">     '''documentation of the function'''\n",
    ">     CODE BLOCK\n",
    ">     return SOMETHING\n",
    "> ```\n",
    "\n",
    "The *documentation of the function* or the `docstring` shows up when someone calls `help()` on the function. Write it as neat and complete as possible."
   ]
  },
  {
   "cell_type": "code",
   "execution_count": null,
   "metadata": {},
   "outputs": [],
   "source": [
    "# Define a Function\n",
    "def print_price_list(input_price_list):\n",
    "    '''prints items and prices from a list'''\n",
    "    for item, price in input_price_list.items():\n",
    "        print(\"Item Code: {i:2d},  Price: {p:4.2f}\".format(i = item, p = price))"
   ]
  },
  {
   "cell_type": "markdown",
   "metadata": {},
   "source": [
    "Once the function is defined, you may call the function by passing specific values for the arguments."
   ]
  },
  {
   "cell_type": "code",
   "execution_count": null,
   "metadata": {},
   "outputs": [],
   "source": [
    "# Call the Function\n",
    "price_list = {1: 24.5, 2: 34, 3: 105, 4: 234.5, 5: 10}\n",
    "print_price_list(input_price_list = price_list)"
   ]
  },
  {
   "cell_type": "markdown",
   "metadata": {},
   "source": [
    "The function may also `return` a value (or more). In that case, we should catch the output of a function."
   ]
  },
  {
   "cell_type": "code",
   "execution_count": null,
   "metadata": {},
   "outputs": [],
   "source": [
    "# Function that Returns a value\n",
    "def square(x):\n",
    "    '''returns the square of a number'''\n",
    "    return x**2\n",
    "\n",
    "square(3)"
   ]
  },
  {
   "cell_type": "code",
   "execution_count": null,
   "metadata": {},
   "outputs": [],
   "source": [
    "# Function that Returns a value\n",
    "def square(x):\n",
    "    '''returns the square of a number'''\n",
    "    return x**2\n",
    "\n",
    "num_list = [1, 2, 3, 4, 5]\n",
    "for i in num_list:\n",
    "    print(\"Square of {0} is {1}\".format(i, square(i)))"
   ]
  },
  {
   "cell_type": "code",
   "execution_count": null,
   "metadata": {},
   "outputs": [],
   "source": [
    "# Function that Returns a value\n",
    "def square(x):\n",
    "    '''returns the square of a number'''\n",
    "    return x**2\n",
    "\n",
    "num_list = [1, 2, 3, 4, 5]\n",
    "sqr_list = []\n",
    "for i in num_list:\n",
    "    y = square(i)\n",
    "    sqr_list.append(y)\n",
    "    \n",
    "print(\"Squares of\", num_list, \"are\", sqr_list)"
   ]
  },
  {
   "cell_type": "code",
   "execution_count": null,
   "metadata": {},
   "outputs": [],
   "source": [
    "# Function that Returns multiple values\n",
    "def maxmin(n_list):\n",
    "    '''returns maximum and minimum of a list of numbers'''\n",
    "    list_max = max(n_list)\n",
    "    list_min = min(n_list)\n",
    "    return list_max, list_min\n",
    "\n",
    "maxmin([1, 2, 3, 4, 5])"
   ]
  },
  {
   "cell_type": "code",
   "execution_count": null,
   "metadata": {},
   "outputs": [],
   "source": [
    "# Function that Returns multiple values\n",
    "def maxmin(n_list):\n",
    "    '''returns maximum and minimum of a list of numbers'''\n",
    "    list_max = max(n_list)\n",
    "    list_min = min(n_list)\n",
    "    return list_max, list_min\n",
    "\n",
    "num_list = [1, 2, 3, 4, 5]\n",
    "num_max, num_min = maxmin(num_list)    \n",
    "print(\"List :\", num_list)\n",
    "print(\"Max =\", num_max, \",  Min =\", num_min)"
   ]
  },
  {
   "cell_type": "markdown",
   "metadata": {},
   "source": [
    "#### Quick Tasks\n",
    "\n",
    "- Create a function for Temperature conversion. Take user input `32 C to F` or `98.6 F to C`, and use the function to convert the temperature.    "
   ]
  },
  {
   "cell_type": "code",
   "execution_count": null,
   "metadata": {},
   "outputs": [],
   "source": []
  },
  {
   "cell_type": "code",
   "execution_count": null,
   "metadata": {},
   "outputs": [],
   "source": []
  },
  {
   "cell_type": "markdown",
   "metadata": {},
   "source": [
    "---\n",
    "## Recursion\n",
    "\n",
    "In some cases, you may want to call a function from within itself, so that you can solve a bigger problem recursively by breaking it apart into smaller problems. In mathematics, such an idea is well-known as *induction*. In computing, we call it *recursion*. Some problems become quite easier (and intuitive) with recursion."
   ]
  },
  {
   "cell_type": "code",
   "execution_count": null,
   "metadata": {},
   "outputs": [],
   "source": [
    "# Recursive function : Factorial\n",
    "def factorial(n):\n",
    "    '''returns the factorial of an integer'''\n",
    "    if n == 0:\n",
    "        return 1\n",
    "    return n * factorial(n-1)\n",
    "\n",
    "factorial(5)"
   ]
  },
  {
   "cell_type": "code",
   "execution_count": null,
   "metadata": {},
   "outputs": [],
   "source": [
    "# Recursive function : Fibonacci\n",
    "def fibonacci(n):\n",
    "    '''returns the n-th fibonacci number'''\n",
    "    if n == 1 or n == 2:\n",
    "        return 1\n",
    "    return fibonacci(n-1) + fibonacci(n-2)\n",
    "\n",
    "fibonacci(7)"
   ]
  },
  {
   "cell_type": "code",
   "execution_count": null,
   "metadata": {},
   "outputs": [],
   "source": [
    "# Recursive function : Bit-Length\n",
    "def bitlength(x):\n",
    "    '''returns the number of bits in an integer'''\n",
    "    if x == 0 or x == 1:\n",
    "        return 1\n",
    "    return 1 + bitlength(x//2)\n",
    "\n",
    "bitlength(17)"
   ]
  },
  {
   "cell_type": "markdown",
   "metadata": {},
   "source": [
    "#### Quick Tasks\n",
    "\n",
    "- Write a recursive function to sort a List of Numbers using any [Sorting Algorithm](https://en.wikipedia.org/wiki/Sorting_algorithm) of your choice.    \n",
    "- Write a recursive function to find the [Levenshtein Distance](https://en.wikipedia.org/wiki/Levenshtein_distance) between two Strings input by the User.   "
   ]
  },
  {
   "cell_type": "code",
   "execution_count": null,
   "metadata": {},
   "outputs": [],
   "source": []
  },
  {
   "cell_type": "code",
   "execution_count": null,
   "metadata": {},
   "outputs": [],
   "source": []
  },
  {
   "cell_type": "markdown",
   "metadata": {},
   "source": [
    "---\n",
    "## Arguments\n",
    "\n",
    "When you call a function, you pass input arguments for it to work on. The argument values that you pass will remain *local* variables for the function, and you will not be able to access them from outside. You can only access the `return` value. Python provides you some interesting features in case of arguments.\n",
    "\n",
    "### Default Arguments\n",
    "\n",
    "In case one (or few) argument(s) of a function is common in most cases, one may specify those values by default."
   ]
  },
  {
   "cell_type": "code",
   "execution_count": null,
   "metadata": {},
   "outputs": [],
   "source": [
    "# Default Arguments\n",
    "def log(message = None):\n",
    "    \"logs a message, if passed\"\n",
    "    if message:\n",
    "        print(\"LOG: {0}\".format(message))\n",
    "        \n",
    "log(\"Hello there!\")"
   ]
  },
  {
   "cell_type": "code",
   "execution_count": null,
   "metadata": {},
   "outputs": [],
   "source": [
    "# Default Arguments\n",
    "def greet(name = None):\n",
    "    \"greets a user, if name known\"\n",
    "    if name:\n",
    "        print(\"Hello {0}! It's wonderful to meet you.\".format(name))\n",
    "        \n",
    "greet(\"Sourav\")"
   ]
  },
  {
   "cell_type": "markdown",
   "metadata": {},
   "source": [
    "### Arbitrary Number of Arguments\n",
    "\n",
    "In case a function can take an arbitrary number of arguments, one may use the `*args` notation while defining the function."
   ]
  },
  {
   "cell_type": "code",
   "execution_count": null,
   "metadata": {},
   "outputs": [],
   "source": [
    "# Arbitrary Number of Arguments\n",
    "def add_n(first_num, *args):\n",
    "    \"returns the sum of one or more numbers\"\n",
    "    num_list = [first_num] + [num for num in args]\n",
    "    return sum(num_list)\n",
    "\n",
    "add_n(1, 2, 3, 4)"
   ]
  },
  {
   "cell_type": "code",
   "execution_count": null,
   "metadata": {},
   "outputs": [],
   "source": [
    "# Arbitrary Number of Arguments\n",
    "def mult_n(*args):\n",
    "    \"returns the product of one or more numbers\"\n",
    "    result = 1\n",
    "    for num in args:\n",
    "        result *= num\n",
    "    return(result)\n",
    "\n",
    "mult_n(4, 5, 7, 2)"
   ]
  },
  {
   "cell_type": "code",
   "execution_count": null,
   "metadata": {},
   "outputs": [],
   "source": []
  },
  {
   "cell_type": "code",
   "execution_count": null,
   "metadata": {},
   "outputs": [],
   "source": []
  },
  {
   "cell_type": "markdown",
   "metadata": {},
   "source": [
    "---\n",
    "\n",
    "## Lambda Functions\n",
    "\n",
    "These are small functions which are not defined with any specific name. They carry a single expression whose result is returned. Lambda functions comes very handy when operating with lists. These functions are defined by the keyword `lambda` followed by the variables, a `:` and the expression to execute."
   ]
  },
  {
   "cell_type": "code",
   "execution_count": null,
   "metadata": {},
   "outputs": [],
   "source": [
    "# Lambda Functions\n",
    "sqr = lambda x: x * x\n",
    "print(sqr(5))"
   ]
  },
  {
   "cell_type": "markdown",
   "metadata": {},
   "source": [
    "Lambda functions and `map()` can do wonders for a Python list in general."
   ]
  },
  {
   "cell_type": "code",
   "execution_count": null,
   "metadata": {},
   "outputs": [],
   "source": [
    "# Lambda and Map on a List\n",
    "num_list = [1, 2, 3, 4, 5]\n",
    "sqr_list = list(map(lambda x: x*x, num_list))\n",
    "print(\"Squares of\", num_list, \"are\", sqr_list)"
   ]
  },
  {
   "cell_type": "markdown",
   "metadata": {},
   "source": [
    "Lambda functions are quite handy in composing other functions as well."
   ]
  },
  {
   "cell_type": "code",
   "execution_count": null,
   "metadata": {},
   "outputs": [],
   "source": [
    "# Composing Functions\n",
    "def double(x):\n",
    "    return 2*x\n",
    "\n",
    "def square(x):\n",
    "    return x*x\n",
    "\n",
    "def f_of_g(f,g):\n",
    "    \"compose two functions\"\n",
    "    return lambda x: f(g(x))\n",
    "\n",
    "doublesquare = f_of_g(double, square)\n",
    "doublesquare(3)"
   ]
  },
  {
   "cell_type": "code",
   "execution_count": null,
   "metadata": {},
   "outputs": [],
   "source": []
  },
  {
   "cell_type": "code",
   "execution_count": null,
   "metadata": {},
   "outputs": [],
   "source": []
  },
  {
   "cell_type": "markdown",
   "metadata": {},
   "source": [
    "---\n",
    "\n",
    "## Importing Modules\n",
    "\n",
    "In case Python does not have the capacity of solving your problem, try to `import` external modules or libraries. Python is supported by a vibrant community of developers and users, and hence there are several useful modules or libraries available in Python. To get a list of useful modules, check the following link.    \n",
    "\n",
    "Useful Python Modules from Python Wiki : https://wiki.python.org/moin/UsefulModules"
   ]
  },
  {
   "cell_type": "code",
   "execution_count": null,
   "metadata": {},
   "outputs": [],
   "source": [
    "# Import the Math Module\n",
    "import math\n",
    "math.sqrt(5)"
   ]
  },
  {
   "cell_type": "code",
   "execution_count": null,
   "metadata": {},
   "outputs": [],
   "source": [
    "# Import all Math Functions\n",
    "from math import *\n",
    "sqrt(5)"
   ]
  },
  {
   "cell_type": "code",
   "execution_count": null,
   "metadata": {},
   "outputs": [],
   "source": [
    "# Import one Math Function\n",
    "from math import sqrt\n",
    "sqrt(5)"
   ]
  },
  {
   "cell_type": "markdown",
   "metadata": {},
   "source": [
    "#### Quick Tasks\n",
    "\n",
    "- Take the radius ($r$) and height ($h$) of a Cylinder input from the user, and print its Volume ($\\pi r^2 h$).    \n",
    "- Write a function from scratch to compute the Square Root of a number input by the User.    "
   ]
  },
  {
   "cell_type": "code",
   "execution_count": null,
   "metadata": {},
   "outputs": [],
   "source": []
  },
  {
   "cell_type": "code",
   "execution_count": null,
   "metadata": {},
   "outputs": [],
   "source": []
  }
 ],
 "metadata": {
  "kernelspec": {
   "display_name": "Python 3",
   "language": "python",
   "name": "python3"
  },
  "language_info": {
   "codemirror_mode": {
    "name": "ipython",
    "version": 3
   },
   "file_extension": ".py",
   "mimetype": "text/x-python",
   "name": "python",
   "nbconvert_exporter": "python",
   "pygments_lexer": "ipython3",
   "version": "3.8.3"
  }
 },
 "nbformat": 4,
 "nbformat_minor": 2
}
