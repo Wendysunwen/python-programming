{
 "cells": [
  {
   "cell_type": "markdown",
   "metadata": {},
   "source": [
    "# Python Programming\n",
    "\n",
    "**Programming Challenges** \n",
    "\n",
    "Solve the following problems using Python as you learn the various Modules on Python Programming. *Practice is the key, as always.*     \n",
    "\n",
    "---"
   ]
  },
  {
   "cell_type": "markdown",
   "metadata": {},
   "source": [
    "## Fibonacci Numbers\n",
    "\n",
    "Print the list of all Fibonacci Numbers (https://en.wikipedia.org/wiki/Fibonacci_number) below 1000.       "
   ]
  },
  {
   "cell_type": "code",
   "execution_count": null,
   "metadata": {},
   "outputs": [],
   "source": []
  },
  {
   "cell_type": "markdown",
   "metadata": {},
   "source": [
    "Modify the program slightly to print the list of first 1000 Fibonacci Numbers.          "
   ]
  },
  {
   "cell_type": "code",
   "execution_count": null,
   "metadata": {
    "scrolled": true
   },
   "outputs": [],
   "source": []
  },
  {
   "cell_type": "markdown",
   "metadata": {},
   "source": [
    " How fast to the Fibonacci numbers grow? Check through code.      "
   ]
  },
  {
   "cell_type": "code",
   "execution_count": null,
   "metadata": {},
   "outputs": [],
   "source": []
  },
  {
   "cell_type": "code",
   "execution_count": null,
   "metadata": {},
   "outputs": [],
   "source": []
  },
  {
   "cell_type": "markdown",
   "metadata": {},
   "source": [
    "---\n",
    "## Prime Numbers\n",
    "\n",
    "Print the list of all Prime Numbers (https://en.wikipedia.org/wiki/Prime_number) below 1000.    "
   ]
  },
  {
   "cell_type": "code",
   "execution_count": null,
   "metadata": {},
   "outputs": [],
   "source": []
  },
  {
   "cell_type": "markdown",
   "metadata": {},
   "source": [
    "Modify the program slightly to print the list of first 1000 Prime Numbers.      "
   ]
  },
  {
   "cell_type": "code",
   "execution_count": null,
   "metadata": {},
   "outputs": [],
   "source": []
  },
  {
   "cell_type": "markdown",
   "metadata": {},
   "source": [
    "How fast to the Prime numbers grow? Check through code.    "
   ]
  },
  {
   "cell_type": "code",
   "execution_count": null,
   "metadata": {},
   "outputs": [],
   "source": []
  },
  {
   "cell_type": "code",
   "execution_count": null,
   "metadata": {},
   "outputs": [],
   "source": []
  },
  {
   "cell_type": "markdown",
   "metadata": {},
   "source": [
    "---\n",
    "## Passwork Checker\n",
    "\n",
    "Given a string, write a function to determine if it is a legitimate *Password*, satisfying the following conditions: \n",
    "- (i) length between 8 and 24,    \n",
    "- (ii) at least one uppercase character,    \n",
    "- (iii) at least one lowercase character,    \n",
    "- (iv) at least one digit,     \n",
    "- (v) at least one special character amongst `!@#%&*`, and    \n",
    "- (vi) no spaces in between.      \n",
    "\n",
    "The function should accept a `string` as input, and return `True` or `False` according to the conditions.     "
   ]
  },
  {
   "cell_type": "code",
   "execution_count": null,
   "metadata": {},
   "outputs": [],
   "source": []
  },
  {
   "cell_type": "code",
   "execution_count": null,
   "metadata": {},
   "outputs": [],
   "source": []
  },
  {
   "cell_type": "markdown",
   "metadata": {},
   "source": [
    "---\n",
    "## Bulls and Cows Game\n",
    "\n",
    "Write a program so that a User may play the `Bulls-and-Cows` game (https://en.wikipedia.org/wiki/Bulls_and_Cows) against the Computer, such that the Computer chooses a random 4-digit number with non-repeating digits, and the User has to guess the number using hints of the form `x Bulls y Cows`.     "
   ]
  },
  {
   "cell_type": "code",
   "execution_count": null,
   "metadata": {},
   "outputs": [],
   "source": []
  },
  {
   "cell_type": "code",
   "execution_count": null,
   "metadata": {},
   "outputs": [],
   "source": []
  },
  {
   "cell_type": "markdown",
   "metadata": {},
   "source": [
    "---\n",
    "## Tic-Tac-Toe Game\n",
    "\n",
    "Write a program so that two Users may play the `Tic-Tac-Toe` game (https://en.wikipedia.org/wiki/Tic-tac-toe) against each other, such that the Computer facilitates the game -- offers `X` to User A and `O` to User B, prints the board after every move by the Users, and announces the result (Winner or Draw).      "
   ]
  },
  {
   "cell_type": "code",
   "execution_count": null,
   "metadata": {},
   "outputs": [],
   "source": []
  },
  {
   "cell_type": "code",
   "execution_count": null,
   "metadata": {},
   "outputs": [],
   "source": []
  },
  {
   "cell_type": "markdown",
   "metadata": {},
   "source": [
    "---\n",
    "## Compute Square Root\n",
    "\n",
    "Given a number (integer or floating point) and a desired precision (in number of digits), compute the *Square Root* of the number up to the desired precision."
   ]
  },
  {
   "cell_type": "code",
   "execution_count": null,
   "metadata": {},
   "outputs": [],
   "source": []
  },
  {
   "cell_type": "markdown",
   "metadata": {},
   "source": [
    "Compare results with `math.sqrt()` to check precision. Time (`%%timeit`) your code to check 'precision vs. time complexity' of the function you wrote."
   ]
  },
  {
   "cell_type": "code",
   "execution_count": null,
   "metadata": {},
   "outputs": [],
   "source": []
  },
  {
   "cell_type": "code",
   "execution_count": null,
   "metadata": {},
   "outputs": [],
   "source": []
  },
  {
   "cell_type": "markdown",
   "metadata": {},
   "source": [
    "---\n",
    "## Compute Matrix Determinant\n",
    "\n",
    "Given a matrix (as list of lists), compute the *Determinant* of the matrix using Laplace Expansion (https://en.wikipedia.org/wiki/Laplace_expansion).      "
   ]
  },
  {
   "cell_type": "code",
   "execution_count": null,
   "metadata": {},
   "outputs": [],
   "source": []
  },
  {
   "cell_type": "markdown",
   "metadata": {},
   "source": [
    "Time (`%%timeit`) your code with varying matrix dimensions ($n \\times n$) to check the computational complexity of the function you wrote.   "
   ]
  },
  {
   "cell_type": "code",
   "execution_count": null,
   "metadata": {},
   "outputs": [],
   "source": []
  },
  {
   "cell_type": "code",
   "execution_count": null,
   "metadata": {},
   "outputs": [],
   "source": []
  },
  {
   "cell_type": "markdown",
   "metadata": {},
   "source": [
    "---\n",
    "## Levenshtein Distance\n",
    "\n",
    "Given two strings as User input, write a function to compute the *Levenshtein Distance* (https://en.wikipedia.org/wiki/Levenshtein_distance) between them.    "
   ]
  },
  {
   "cell_type": "code",
   "execution_count": null,
   "metadata": {},
   "outputs": [],
   "source": []
  },
  {
   "cell_type": "code",
   "execution_count": null,
   "metadata": {},
   "outputs": [],
   "source": []
  },
  {
   "cell_type": "markdown",
   "metadata": {},
   "source": [
    "---\n",
    "## Count Word Frequencies\n",
    "\n",
    "Given an input text file, record the *Count/Frequency* of all words longer than 3 characters in a Dictionary `{word: count}`, and sort it by Count/Frequency.    "
   ]
  },
  {
   "cell_type": "code",
   "execution_count": null,
   "metadata": {},
   "outputs": [],
   "source": []
  },
  {
   "cell_type": "code",
   "execution_count": null,
   "metadata": {},
   "outputs": [],
   "source": []
  },
  {
   "cell_type": "markdown",
   "metadata": {},
   "source": [
    "---\n",
    "## Bulls and Cows AI\n",
    "\n",
    "Write a program so that the Computer may play the `Bulls-and-Cows` game (https://en.wikipedia.org/wiki/Bulls_and_Cows) against the User, such that the User chooses a random 4-digit number with non-repeating digits, and the Computer has to guess the number using hints of the form `x Bulls y Cows`.     \n",
    "\n",
    "*Note : You are writing a basic AI routine. Plan the optimization problem correctly, and design an appropriate cost function to optimize for the Computer.*    "
   ]
  },
  {
   "cell_type": "code",
   "execution_count": null,
   "metadata": {},
   "outputs": [],
   "source": []
  },
  {
   "cell_type": "code",
   "execution_count": null,
   "metadata": {},
   "outputs": [],
   "source": []
  },
  {
   "cell_type": "markdown",
   "metadata": {},
   "source": [
    "---\n",
    "## Tic-Tac-Toe AI\n",
    "\n",
    "Write a program so that two Users may play the `Tic-Tac-Toe` game (https://en.wikipedia.org/wiki/Tic-tac-toe) against the Computer. The User may choose either `X` (first move) or `O` (second move). The Computer plays its turn, prints the board after every move, and announces the result (Winner or Draw).      \n",
    "\n",
    "*Note : You are writing a basic AI routine. Plan the optimization problem correctly, and design an appropriate cost function to optimize for the Computer.*    "
   ]
  },
  {
   "cell_type": "code",
   "execution_count": null,
   "metadata": {},
   "outputs": [],
   "source": []
  },
  {
   "cell_type": "code",
   "execution_count": null,
   "metadata": {},
   "outputs": [],
   "source": []
  },
  {
   "cell_type": "markdown",
   "metadata": {},
   "source": [
    "---\n",
    "## Scale-Free Network\n",
    "\n",
    "\"A scale-free network is a network whose degree distribution follows a power law, at least asymptotically. That is, the fraction $P(k)$ of nodes in the network having $k$ connections to other nodes goes for large values of $k$ as $P(k) \\sim k^{-\\gamma}$, where $\\gamma$ is a parameter whose value typically lies in the range $2 < \\gamma < 3$, although occasionally it may lie outside these bounds.\" -- Wikipedia (https://en.wikipedia.org/wiki/Scale-free_network).        \n",
    "\n",
    "In this problem, you will write a program to analyze the statistical properties of a social network, and decide if it is a *scale-free network*, as defined above. In a graph or network, the *degree* of a node is defined as the number of other nodes connected with it. You will have to calculate and analyze the distribution of node degrees for a given graph $G$ that represents a social network, to see if $G$ represents a *scale-free network*. This is quite important in Network Analysis.     \n",
    "\n",
    "Choose any Social Network $G$ from https://snap.stanford.edu/data/#socnets as your input, and write a program to calculate the degrees of all the nodes in the network. Think of how to represent a Graph in Python. You may use either an adjacency matrix or an array of adjacency lists to represent the graph/network.    "
   ]
  },
  {
   "cell_type": "code",
   "execution_count": null,
   "metadata": {},
   "outputs": [],
   "source": []
  },
  {
   "cell_type": "markdown",
   "metadata": {},
   "source": [
    "Plot a histogram for the node degrees in your network $G$, where the variable on `x`-axis is $k$ (i.e., the degree of the nodes), and the variable on `y`-axis is $P(k)$ (i.e., the fraction of nodes having degree equal to $k$). Try to estimate $\\gamma$ for $G$ by fitting a curve on this histogram, such that $P(k) \\sim k^{-\\gamma}$.      "
   ]
  },
  {
   "cell_type": "code",
   "execution_count": null,
   "metadata": {},
   "outputs": [],
   "source": []
  },
  {
   "cell_type": "code",
   "execution_count": null,
   "metadata": {},
   "outputs": [],
   "source": []
  },
  {
   "cell_type": "markdown",
   "metadata": {},
   "source": [
    "---\n",
    "## Normal Equation for Linear Regression\n",
    "\n",
    "Note that there exists a simple linear algebraic closed-form solution $\\theta = (X^TX)^{-1}X^Ty$ of Ordinary Least Squares linear regression of the form $y = X\\theta + \\epsilon$, as detailed in http://mlwiki.org/index.php/Normal_Equation (learn this first). This closed-form solution is known as *Normal Equation* for Linear Regression.      \n",
    "\n",
    "Use the `pokemonData.csv` dataset, as in `Module7_BasicDataScience`, and solve for the regression coefficients in case of an Ordinary Least Squares linear regression for response variable `Total` vs predictors `HP`, `Attack`, `Defense`, `Speed`. Use the *Normal Equation* closed-form for the solution."
   ]
  },
  {
   "cell_type": "code",
   "execution_count": null,
   "metadata": {},
   "outputs": [],
   "source": []
  },
  {
   "cell_type": "code",
   "execution_count": null,
   "metadata": {},
   "outputs": [],
   "source": []
  },
  {
   "cell_type": "markdown",
   "metadata": {},
   "source": [
    "---\n",
    "## Nearest Neighbor Classification\n",
    "\n",
    "One of the simplest algorithms in Classification is the *$k$-Nearest Neighbors* ($k$-NN) algorithm. It labels (classifies) an unknown datapoint simply by considering its $k$ nearest neighbors (using some distance measure), and counting the most frequent label (https://en.wikipedia.org/wiki/K-nearest_neighbors_algorithm).\n",
    "\n",
    "Use the `pokemonData.csv` dataset, as in `Module7_BasicDataScience`, and implement the $k$-NN classification algorithm to label/classify a Pokemon as `Legendary` (or not) based on its $k$ nearest neighbors with respect to the four predictors `HP`, `Attack`, `Defense`, `Speed`. You may use a standard four-dimensional Euclidean Distance to compute the neighborhood, and choose $k$ of your liking (you may experiment a little with the value of $k$ as well)."
   ]
  },
  {
   "cell_type": "code",
   "execution_count": null,
   "metadata": {},
   "outputs": [],
   "source": []
  },
  {
   "cell_type": "code",
   "execution_count": null,
   "metadata": {},
   "outputs": [],
   "source": []
  },
  {
   "cell_type": "markdown",
   "metadata": {},
   "source": [
    "**More problems to come ...**"
   ]
  },
  {
   "cell_type": "code",
   "execution_count": null,
   "metadata": {},
   "outputs": [],
   "source": []
  }
 ],
 "metadata": {
  "kernelspec": {
   "display_name": "Python 3",
   "language": "python",
   "name": "python3"
  },
  "language_info": {
   "codemirror_mode": {
    "name": "ipython",
    "version": 3
   },
   "file_extension": ".py",
   "mimetype": "text/x-python",
   "name": "python",
   "nbconvert_exporter": "python",
   "pygments_lexer": "ipython3",
   "version": "3.8.3"
  }
 },
 "nbformat": 4,
 "nbformat_minor": 2
}
