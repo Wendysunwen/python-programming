{
 "cells": [
  {
   "cell_type": "markdown",
   "metadata": {},
   "source": [
    "# Python Programming\n",
    "\n",
    "**Chapter X : Miscellaneous Topics in Python** \n",
    "\n",
    "Python is a fun language to learn, and really easy to pick up even if you are new to programming. In fact, quite often, Python is easier to pick up if you do not have any programming experience whatsoever. Python is high level programming language, targeted at students and professionals from diverse backgrounds.\n",
    "\n",
    "In this chapter, we will cover\n",
    "- Errors and Exceptions\n",
    "- Catching and Raising Exceptions\n",
    "- Generator Expressions\n",
    "\n",
    "**License Declaration** : Following the lead from the inspirations for this material, and the *spirit* of Python education and development, all modules of this work are licensed under the Creative Commons Attribution 3.0 Unported License. To view a copy of this license, visit http://creativecommons.org/licenses/by/3.0/.\n",
    "\n",
    "---"
   ]
  },
  {
   "cell_type": "markdown",
   "metadata": {},
   "source": [
    "## Errors and Exceptions\n",
    "\n",
    "It's a good practice to keep an eye on the *Errors and Exceptions* you raise during Programming and Execution.           \n",
    "\n",
    "- **Syntax errors** : Errors raised due to wrong syntax in code : Pretty easy to fix, as the interpreter catches them     \n",
    "- **Runtime errors** : Errors raised during runtime from syntactically valid code : Often due to invalid user input(s)     \n",
    "- **Semantic errors** : Logical errors may ruin even syntactically correct code and valid user input(s) : Hard to fix    "
   ]
  },
  {
   "cell_type": "code",
   "execution_count": null,
   "metadata": {},
   "outputs": [],
   "source": [
    "# SyntaxError\n",
    "print[]"
   ]
  },
  {
   "cell_type": "code",
   "execution_count": null,
   "metadata": {},
   "outputs": [],
   "source": [
    "# SyntaxError\n",
    "print(Hello Python)"
   ]
  },
  {
   "cell_type": "code",
   "execution_count": null,
   "metadata": {},
   "outputs": [],
   "source": [
    "# SyntaxError\n",
    "while True \n",
    "    print(\"Hello Python\")"
   ]
  },
  {
   "cell_type": "code",
   "execution_count": null,
   "metadata": {},
   "outputs": [],
   "source": [
    "# IndentationError\n",
    "print(\"Hello Python\")\n",
    "    print(\"Where are you?\")"
   ]
  },
  {
   "cell_type": "code",
   "execution_count": null,
   "metadata": {},
   "outputs": [],
   "source": [
    "# NameError\n",
    "print(\"Hello \", user)"
   ]
  },
  {
   "cell_type": "code",
   "execution_count": null,
   "metadata": {},
   "outputs": [],
   "source": [
    "# TypeError\n",
    "print(\"Hello user \", \"N\" + 1)"
   ]
  },
  {
   "cell_type": "code",
   "execution_count": null,
   "metadata": {},
   "outputs": [],
   "source": [
    "# ZeroDivisionError\n",
    "print(\"One divided by Zero is \", 1/0)"
   ]
  },
  {
   "cell_type": "code",
   "execution_count": null,
   "metadata": {},
   "outputs": [],
   "source": [
    "# IndexError\n",
    "users = [\"A\", \"B\", \"C\"]\n",
    "print(\"Hello user \", users[3])"
   ]
  },
  {
   "cell_type": "code",
   "execution_count": null,
   "metadata": {},
   "outputs": [],
   "source": [
    "# KeyError\n",
    "users = {\"A\" : \"Alice\", \"B\" : \"Bob\", \"C\" : \"Charles\"}\n",
    "print(\"Hello user \", users[\"F\"])"
   ]
  },
  {
   "cell_type": "code",
   "execution_count": null,
   "metadata": {},
   "outputs": [],
   "source": [
    "# ModuleNotFoundError\n",
    "import rand"
   ]
  },
  {
   "cell_type": "code",
   "execution_count": null,
   "metadata": {},
   "outputs": [],
   "source": [
    "# ImportError\n",
    "from random import randomfunction"
   ]
  },
  {
   "cell_type": "code",
   "execution_count": null,
   "metadata": {},
   "outputs": [],
   "source": [
    "# AttributeError\n",
    "users = [\"A\", \"B\", \"C\"]\n",
    "users.randomfunction()"
   ]
  },
  {
   "cell_type": "code",
   "execution_count": null,
   "metadata": {},
   "outputs": [],
   "source": [
    "# AttributeError\n",
    "class Student(object):\n",
    "    pass\n",
    "\n",
    "sourav = Student()\n",
    "sourav.matricID"
   ]
  },
  {
   "cell_type": "code",
   "execution_count": null,
   "metadata": {},
   "outputs": [],
   "source": []
  },
  {
   "cell_type": "markdown",
   "metadata": {},
   "source": [
    "#### Quick Tasks\n",
    "\n",
    "- Check the *Exception Hierarchy* at https://docs.python.org/3.7/library/exceptions.html#exception-hierarchy and try to force some other exceptions.    "
   ]
  },
  {
   "cell_type": "code",
   "execution_count": null,
   "metadata": {},
   "outputs": [],
   "source": []
  },
  {
   "cell_type": "code",
   "execution_count": null,
   "metadata": {},
   "outputs": [],
   "source": []
  },
  {
   "cell_type": "markdown",
   "metadata": {},
   "source": [
    "---\n",
    "\n",
    "## Catching and Raising Exceptions\n",
    "\n",
    "You may catch the *Exceptions* in Python using the `try ... except` clause, as follows.     \n",
    "\n",
    ">     try:     \n",
    ">         SOME DOUBTFUL CODE TO TRY OUT     \n",
    ">     except:     \n",
    ">         EXECUTE IF THERE IS ANY ERROR     \n",
    "\n",
    "When an *Exception* is *raised* within the `try` clause, the `except` statement will *catch* it."
   ]
  },
  {
   "cell_type": "code",
   "execution_count": null,
   "metadata": {},
   "outputs": [],
   "source": [
    "# Catching Exception : try ... except\n",
    "try:\n",
    "    print(\"We will try to execute this piece of Python code ...\") \n",
    "except:\n",
    "    print(\"... and this will be executed if there is any error.\")"
   ]
  },
  {
   "cell_type": "code",
   "execution_count": null,
   "metadata": {},
   "outputs": [],
   "source": [
    "# Catching Exception : try ... except\n",
    "try:\n",
    "    print(\"We will try to execute this piece of Python code ...\") \n",
    "    x = 1 / 0\n",
    "    print(\"One divided by Zero is \", x)\n",
    "except:\n",
    "    print(\"... and this will be executed if there is any error.\")"
   ]
  },
  {
   "cell_type": "code",
   "execution_count": null,
   "metadata": {},
   "outputs": [],
   "source": [
    "# Safe Division\n",
    "def divide(a, b):\n",
    "    return (a/b)\n",
    "\n",
    "def safedivide(a, b):\n",
    "    try:\n",
    "        return (a/b)\n",
    "    except:\n",
    "        return float('inf')\n",
    "\n",
    "# Test Cases\n",
    "print(\"Safe Divide : \", safedivide(3, 4))\n",
    "print(\"Naive Divide : \", divide(3, 4))\n",
    "\n",
    "print(\"Safe Divide : \", safedivide(3, 0))\n",
    "print(\"Naive Divide : \", divide(3, 0))"
   ]
  },
  {
   "cell_type": "code",
   "execution_count": null,
   "metadata": {},
   "outputs": [],
   "source": [
    "# Super Safe Division\n",
    "def supersafedivide(a, b):\n",
    "    try:\n",
    "        return (a/b)\n",
    "    except ZeroDivisionError:\n",
    "        return float('inf')\n",
    "\n",
    "# Test Cases\n",
    "print(\"Safe Divide : \", safedivide(3, 4))\n",
    "print(\"Super Safe Divide : \", supersafedivide(3, 4))\n",
    "\n",
    "print(\"Safe Divide : \", safedivide(3, \"4\"))\n",
    "print(\"Super Safe Divide : \", supersafedivide(3, \"4\"))"
   ]
  },
  {
   "cell_type": "code",
   "execution_count": null,
   "metadata": {},
   "outputs": [],
   "source": []
  },
  {
   "cell_type": "markdown",
   "metadata": {},
   "source": [
    "You may also use the richer `try ... except ... else ... finally` construct to catch *Exceptions*.     \n",
    "\n",
    ">     try:     \n",
    ">         SOME DOUBTFUL CODE TO TRY OUT     \n",
    ">     except:     \n",
    ">         EXECUTE IF THERE IS ANY ERROR     \n",
    ">     else:     \n",
    ">         EXECUTE IF THERE IS NO ERROR        \n",
    ">     finally:     \n",
    ">         EXECUTE FINALLY NO MATTER WHAT     "
   ]
  },
  {
   "cell_type": "code",
   "execution_count": null,
   "metadata": {},
   "outputs": [],
   "source": [
    "# Catching Exception : try ... except ... else ... finally\n",
    "try:\n",
    "    print(\"We will try to execute this piece of Python code ...\") \n",
    "except:\n",
    "    print(\"... and this will be executed if there is any error.\")\n",
    "else:\n",
    "    print(\"... and this will be executed if there is no error.\")\n",
    "finally:\n",
    "    print(\"By the way, this will be executed no matter what.\")"
   ]
  },
  {
   "cell_type": "code",
   "execution_count": null,
   "metadata": {},
   "outputs": [],
   "source": [
    "# Catching Exception : try ... except ... else ... finally\n",
    "try:\n",
    "    print(\"We will try to execute this piece of Python code ...\") \n",
    "    x = 1 / 0\n",
    "    print(\"One divided by Zero is \", x)\n",
    "except:\n",
    "    print(\"... and this will be executed if there is any error.\")\n",
    "else:\n",
    "    print(\"... and this will be executed if there is no error.\")\n",
    "finally:\n",
    "    print(\"By the way, this will be executed no matter what.\")"
   ]
  },
  {
   "cell_type": "code",
   "execution_count": null,
   "metadata": {},
   "outputs": [],
   "source": []
  },
  {
   "cell_type": "markdown",
   "metadata": {},
   "source": [
    "The best part of Python is that you are allowed to `raise` an Exception whenever you deem suitable.   \n",
    "Furthermore, you may choose to `raise` your own user-defined Custom Exceptions in Python. Have fun!    \n",
    "\n"
   ]
  },
  {
   "cell_type": "code",
   "execution_count": null,
   "metadata": {},
   "outputs": [],
   "source": [
    "raise RuntimeError(\"custom error message\")"
   ]
  },
  {
   "cell_type": "code",
   "execution_count": null,
   "metadata": {},
   "outputs": [],
   "source": [
    "# Safe Factorial\n",
    "def factorial(N):\n",
    "    if N == 0:\n",
    "        return 1\n",
    "    return N * factorial(N-1)\n",
    "\n",
    "def safefactorial(N):\n",
    "    if N < 0:\n",
    "        raise ValueError(\"input must be a non-negative integer\")\n",
    "    if N == 0:\n",
    "        return 1\n",
    "    return N * safefactorial(N-1)\n",
    "\n",
    "# Test Cases\n",
    "print(\"Naive Factorial : \", factorial(5))\n",
    "print(\"Safe Factorial : \", safefactorial(5))\n",
    "\n",
    "print(\"Naive Factorial : \", factorial(-5))\n",
    "print(\"Safe Factorial : \", safefactorial(-5))"
   ]
  },
  {
   "cell_type": "code",
   "execution_count": null,
   "metadata": {},
   "outputs": [],
   "source": [
    "# Somebody may actually use this ...\n",
    "try:\n",
    "    print(\"Let's compute the factorial of a number.\")\n",
    "    N = -5\n",
    "    print(\"Factorial of\", N, \"is\", safefactorial(N))\n",
    "except ValueError:\n",
    "    print(\"The input format must have been wrong!\")\n",
    "else:\n",
    "    print(\"Everything seems to be alright. Great.\")"
   ]
  },
  {
   "cell_type": "code",
   "execution_count": null,
   "metadata": {},
   "outputs": [],
   "source": [
    "# Custom Exception\n",
    "class CustomError(ValueError):\n",
    "    pass\n",
    "\n",
    "raise CustomError(\"custom error message\")"
   ]
  },
  {
   "cell_type": "code",
   "execution_count": null,
   "metadata": {},
   "outputs": [],
   "source": []
  },
  {
   "cell_type": "markdown",
   "metadata": {},
   "source": [
    "#### Quick Tasks\n",
    "\n",
    "- Build safe versions of *First N Fibonacci Numbers* and *First N Prime Numbers* codes, enforcing that the user-input `N` should be a positive integer.    "
   ]
  },
  {
   "cell_type": "code",
   "execution_count": null,
   "metadata": {},
   "outputs": [],
   "source": []
  },
  {
   "cell_type": "code",
   "execution_count": null,
   "metadata": {},
   "outputs": [],
   "source": []
  },
  {
   "cell_type": "markdown",
   "metadata": {},
   "source": [
    "---\n",
    "## Generator Expressions\n",
    "\n",
    "This may feel quite similar to List Comprehension, but the outcome is significantly different. While the output of *list comprehension* is a list of objects, all computed together, the output of a *generator expression* is an `generator` object that can iterate over a sequence of objects. The `generator` does not compute the values up-front, but wait for user-specific invocation. Thus, a `generator` is much more time-and-memory efficient than a *list comprehension*."
   ]
  },
  {
   "cell_type": "code",
   "execution_count": null,
   "metadata": {},
   "outputs": [],
   "source": [
    "# Without List Comprehension\n",
    "num_list = [1, 2, 3, 4, 5]\n",
    "sqr_list = []\n",
    "for x in num_list:\n",
    "    y = x**2\n",
    "    sqr_list.append(y)\n",
    "    \n",
    "print(\"Squares of\", num_list, \"are\", sqr_list)"
   ]
  },
  {
   "cell_type": "code",
   "execution_count": null,
   "metadata": {},
   "outputs": [],
   "source": [
    "# With List Comprehension\n",
    "num_list = [1, 2, 3, 4, 5]\n",
    "sqr_list = [x**2 for x in num_list]\n",
    "\n",
    "print(\"Squares of\", num_list, \"are\", sqr_list)"
   ]
  },
  {
   "cell_type": "code",
   "execution_count": null,
   "metadata": {},
   "outputs": [],
   "source": [
    "# With Generator Expression\n",
    "num_list = [1, 2, 3, 4, 5]\n",
    "sqr_list = (x**2 for x in num_list)\n",
    "\n",
    "print(\"Squares of\", num_list, \"are\", sqr_list)"
   ]
  },
  {
   "cell_type": "code",
   "execution_count": null,
   "metadata": {},
   "outputs": [],
   "source": [
    "# Print the Objects\n",
    "for sqr in sqr_list:\n",
    "    print(sqr)"
   ]
  },
  {
   "cell_type": "markdown",
   "metadata": {},
   "source": [
    "You can start or stop or step through the generator object to produce the sequence at your will."
   ]
  },
  {
   "cell_type": "code",
   "execution_count": null,
   "metadata": {},
   "outputs": [],
   "source": [
    "# Create Generator Expression\n",
    "num_list = [1, 2, 3, 4, 5]\n",
    "sqr_list = (x**2 for x in num_list)\n",
    "\n",
    "# Get the next item in the Generator\n",
    "print(next(sqr_list)) # first item\n",
    "print(next(sqr_list)) # second item\n",
    "print(next(sqr_list)) # third item\n",
    "print(next(sqr_list)) # fourth item\n",
    "print(next(sqr_list)) # fifth item\n",
    "print(next(sqr_list)) # Error : StopIteration"
   ]
  },
  {
   "cell_type": "code",
   "execution_count": null,
   "metadata": {},
   "outputs": [],
   "source": [
    "# Generator Expression with Condition\n",
    "spc_list = (x**2 for x in range(1,50) if x**2 % 3 == 0)\n",
    "\n",
    "print(\"List of squares of positive numbers below 50 where the Squares are divisible by 3.\")\n",
    "for spc in spc_list:\n",
    "    print(spc)"
   ]
  },
  {
   "cell_type": "code",
   "execution_count": null,
   "metadata": {},
   "outputs": [],
   "source": []
  },
  {
   "cell_type": "markdown",
   "metadata": {},
   "source": [
    "Instead of a standard *list comprehension* logic, one may also create a `generator` object using `yield`."
   ]
  },
  {
   "cell_type": "code",
   "execution_count": null,
   "metadata": {},
   "outputs": [],
   "source": [
    "# Create a Generator for Prime numbers below N\n",
    "def genPrimes(N):\n",
    "    '''Generate Prime Numbers below N'''\n",
    "    primes = []\n",
    "\n",
    "    for num in range(2,N):\n",
    "        for p in primes:\n",
    "            if num % p == 0:\n",
    "                break\n",
    "        else:\n",
    "            primes.append(num)\n",
    "            yield num"
   ]
  },
  {
   "cell_type": "code",
   "execution_count": null,
   "metadata": {},
   "outputs": [],
   "source": [
    "# Create the Prime Generator\n",
    "primegen = genPrimes(100)\n",
    "\n",
    "# Generate Primes one-by-one\n",
    "print(next(primegen))\n",
    "print(next(primegen))\n",
    "print(next(primegen))\n",
    "print(next(primegen))\n",
    "print(next(primegen))"
   ]
  },
  {
   "cell_type": "code",
   "execution_count": null,
   "metadata": {},
   "outputs": [],
   "source": [
    "# Print all the Primes\n",
    "print(*genPrimes(100))"
   ]
  },
  {
   "cell_type": "code",
   "execution_count": null,
   "metadata": {},
   "outputs": [],
   "source": []
  },
  {
   "cell_type": "markdown",
   "metadata": {},
   "source": [
    "#### Quick Tasks\n",
    "\n",
    "- Create a `generator` for Fibonacci Numbers below a given input integer `N`. Print only the last two using the `generator`.   "
   ]
  },
  {
   "cell_type": "code",
   "execution_count": null,
   "metadata": {},
   "outputs": [],
   "source": []
  },
  {
   "cell_type": "code",
   "execution_count": null,
   "metadata": {},
   "outputs": [],
   "source": []
  }
 ],
 "metadata": {
  "kernelspec": {
   "display_name": "Python 3",
   "language": "python",
   "name": "python3"
  },
  "language_info": {
   "codemirror_mode": {
    "name": "ipython",
    "version": 3
   },
   "file_extension": ".py",
   "mimetype": "text/x-python",
   "name": "python",
   "nbconvert_exporter": "python",
   "pygments_lexer": "ipython3",
   "version": "3.8.3"
  }
 },
 "nbformat": 4,
 "nbformat_minor": 2
}
