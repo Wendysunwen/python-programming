{
 "cells": [
  {
   "cell_type": "markdown",
   "metadata": {},
   "source": [
    "# Python Programming\n",
    "\n",
    "**Chapter 2 : Data Structures in Python** \n",
    "\n",
    "Python is a fun language to learn, and really easy to pick up even if you are new to programming. In fact, quite often, Python is easier to pick up if you do not have any programming experience whatsoever. Python is high level programming language, targeted at students and professionals from diverse backgrounds.\n",
    "\n",
    "In this chapter, we will cover\n",
    "- Lists\n",
    "- Strings\n",
    "- Tuples\n",
    "- Data Structure Conversion\n",
    "- Multiple Simultaneous Assignments\n",
    "- Sets\n",
    "- Dictionaries\n",
    "\n",
    "**License Declaration** : Following the lead from the inspirations for this material, and the *spirit* of Python education and development, all modules of this work are licensed under the Creative Commons Attribution 3.0 Unported License. To view a copy of this license, visit http://creativecommons.org/licenses/by/3.0/.\n",
    "\n",
    "---"
   ]
  },
  {
   "cell_type": "markdown",
   "metadata": {},
   "source": [
    "## Lists\n",
    "\n",
    "List is one of the most versatile Data Structures in Python."
   ]
  },
  {
   "cell_type": "code",
   "execution_count": null,
   "metadata": {},
   "outputs": [],
   "source": [
    "# List in Python\n",
    "x = [10, 20, 30, 40, 50]\n",
    "print(x, \"is of type\", type(x))"
   ]
  },
  {
   "cell_type": "code",
   "execution_count": null,
   "metadata": {},
   "outputs": [],
   "source": [
    "# Indexed Item\n",
    "x[0]"
   ]
  },
  {
   "cell_type": "code",
   "execution_count": null,
   "metadata": {},
   "outputs": [],
   "source": [
    "# Negative Indexing\n",
    "x[-1]"
   ]
  },
  {
   "cell_type": "code",
   "execution_count": null,
   "metadata": {},
   "outputs": [],
   "source": [
    "# Slicing a List\n",
    "x[1:3]"
   ]
  },
  {
   "cell_type": "code",
   "execution_count": null,
   "metadata": {},
   "outputs": [],
   "source": [
    "# Tail of a List\n",
    "x[1:]"
   ]
  },
  {
   "cell_type": "code",
   "execution_count": null,
   "metadata": {},
   "outputs": [],
   "source": [
    "# Head of a List\n",
    "x[:-2]"
   ]
  },
  {
   "cell_type": "code",
   "execution_count": null,
   "metadata": {},
   "outputs": [],
   "source": [
    "# Combed Slicing\n",
    "x[1::2]"
   ]
  },
  {
   "cell_type": "code",
   "execution_count": null,
   "metadata": {},
   "outputs": [],
   "source": [
    "# Combed Slicing\n",
    "x[:-1:2]"
   ]
  },
  {
   "cell_type": "code",
   "execution_count": null,
   "metadata": {},
   "outputs": [],
   "source": [
    "# List of Characters\n",
    "x = [\"a\", \"b\", \"c\", \"d\", \"e\"]\n",
    "print(x[2:])"
   ]
  },
  {
   "cell_type": "code",
   "execution_count": null,
   "metadata": {},
   "outputs": [],
   "source": [
    "# Mixed Lists\n",
    "x = [10, \"b\", 30, \"d\", 50]\n",
    "print(x[2:])"
   ]
  },
  {
   "cell_type": "code",
   "execution_count": null,
   "metadata": {},
   "outputs": [],
   "source": [
    "# Lists within Lists (Nested Lists)\n",
    "x = [10, 20, 30, [\"a\", \"b\", \"c\", \"d\", \"e\"]]\n",
    "print(x[2:])"
   ]
  },
  {
   "cell_type": "code",
   "execution_count": null,
   "metadata": {},
   "outputs": [],
   "source": [
    "# Double Indexing in Nested Lists\n",
    "x = [10, 20, 30, [\"a\", \"b\", \"c\", \"d\", \"e\"]]\n",
    "print(x[3][2:])"
   ]
  },
  {
   "cell_type": "code",
   "execution_count": null,
   "metadata": {},
   "outputs": [],
   "source": [
    "# 2D Array with Nested Lists\n",
    "x = [[1, 2, 3, 4, 5],\n",
    "     [6, 7, 8, 9, 0],\n",
    "     [0, 9, 8, 7, 6],\n",
    "     [5, 4, 3, 2, 1]]\n",
    "print(x[2][3])"
   ]
  },
  {
   "cell_type": "code",
   "execution_count": null,
   "metadata": {},
   "outputs": [],
   "source": [
    "# List Operations\n",
    "x = [10, 20, 30, 40, 50]\n",
    "y = [\"a\", \"b\", \"c\", \"d\", \"e\"]\n",
    "print(\"Concatenation:\", x + y)\n",
    "print(\"List of Lists:\", [x] + [y])\n",
    "print(\"List of Lists:\", [x, y])"
   ]
  },
  {
   "cell_type": "code",
   "execution_count": null,
   "metadata": {},
   "outputs": [],
   "source": [
    "# List Functions\n",
    "x = [10, 20, 30, 40, 50]\n",
    "y = [\"a\", \"b\", \"c\", \"d\", \"e\"]\n",
    "print(\"Len:\", len(x), len(y))\n",
    "print(\"Max:\", max(x), max(y))\n",
    "print(\"Min:\", min(x), min(y))"
   ]
  },
  {
   "cell_type": "code",
   "execution_count": null,
   "metadata": {},
   "outputs": [],
   "source": [
    "# List Functions\n",
    "x = [\"It's\", \"fun\", \"learning\", \"python\", \"at\", \"NTU\"]\n",
    "print(\"Max:\", max(x))\n",
    "print(\"Min:\", min(x))\n",
    "print(\"Max Len:\", max(x, key=len))\n",
    "print(\"Min Len:\", min(x, key=len))"
   ]
  },
  {
   "cell_type": "code",
   "execution_count": null,
   "metadata": {},
   "outputs": [],
   "source": [
    "# Append to a List\n",
    "x = [10, 20, 30, 40, 50]\n",
    "x.append(100)\n",
    "print(x)"
   ]
  },
  {
   "cell_type": "code",
   "execution_count": null,
   "metadata": {},
   "outputs": [],
   "source": [
    "# Insert into a List\n",
    "x = [10, 20, 30, 40, 50]\n",
    "x.insert(3, 100)\n",
    "print(x)"
   ]
  },
  {
   "cell_type": "code",
   "execution_count": null,
   "metadata": {},
   "outputs": [],
   "source": [
    "# Append a List to a List\n",
    "x = [10, 20, 30, 40, 50]\n",
    "x.append([100, 200, 300])\n",
    "print(x)"
   ]
  },
  {
   "cell_type": "code",
   "execution_count": null,
   "metadata": {},
   "outputs": [],
   "source": [
    "# Extend a List\n",
    "x = [10, 20, 30, 40, 50]\n",
    "x.extend([100, 200, 300])\n",
    "print(x)"
   ]
  },
  {
   "cell_type": "code",
   "execution_count": null,
   "metadata": {},
   "outputs": [],
   "source": [
    "# Remove from a List\n",
    "x = [10, 20, 30, 40, 50]\n",
    "x.remove(30)\n",
    "print(x)"
   ]
  },
  {
   "cell_type": "code",
   "execution_count": null,
   "metadata": {},
   "outputs": [],
   "source": [
    "# Pop from a List\n",
    "x = [10, 20, 30, 40, 50]\n",
    "y = x.pop()\n",
    "print(x)\n",
    "print(y)"
   ]
  },
  {
   "cell_type": "code",
   "execution_count": null,
   "metadata": {},
   "outputs": [],
   "source": [
    "# Copying a List\n",
    "x = [10, 20, 30, 40, 50]\n",
    "y = x\n",
    "print(x)\n",
    "print(y)"
   ]
  },
  {
   "cell_type": "code",
   "execution_count": null,
   "metadata": {},
   "outputs": [],
   "source": [
    "# Copying a List (Wrong)\n",
    "x = [10, 20, 30, 40, 50]\n",
    "y = x\n",
    "x.append(100)\n",
    "x.remove(30)\n",
    "print(x)\n",
    "print(y)"
   ]
  },
  {
   "cell_type": "code",
   "execution_count": null,
   "metadata": {},
   "outputs": [],
   "source": [
    "# Copying a List (Right)\n",
    "x = [10, 20, 30, 40, 50]\n",
    "y = x[:]\n",
    "x.append(100)\n",
    "x.remove(30)\n",
    "print(x)\n",
    "print(y)"
   ]
  },
  {
   "cell_type": "code",
   "execution_count": null,
   "metadata": {},
   "outputs": [],
   "source": [
    "# List Arithmetic\n",
    "x = [10, \"NTU\"]\n",
    "print(x + x)\n",
    "print(3 * x)"
   ]
  },
  {
   "cell_type": "markdown",
   "metadata": {},
   "source": [
    "#### Quick Tasks\n",
    "\n",
    "- Print the list `[1, 2, 3, 4, 5]` in reverse.   \n",
    "- Create a `10 x 10` array/matrix filled with `1`s.    "
   ]
  },
  {
   "cell_type": "code",
   "execution_count": null,
   "metadata": {},
   "outputs": [],
   "source": []
  },
  {
   "cell_type": "code",
   "execution_count": null,
   "metadata": {},
   "outputs": [],
   "source": []
  },
  {
   "cell_type": "markdown",
   "metadata": {},
   "source": [
    "---\n",
    "\n",
    "## Strings\n",
    "\n",
    "Strings in Python behave similar to a List of Characters, although they are not the same."
   ]
  },
  {
   "cell_type": "code",
   "execution_count": null,
   "metadata": {},
   "outputs": [],
   "source": [
    "# String Operations in Python\n",
    "x = \"Singapore\"\n",
    "print(x, \"is of type\", type(x))\n",
    "print(\"The third element  :\", x[2])\n",
    "print(\"First two elements :\", x[:2])\n",
    "print(\"Last two elements  :\", x[-2:])\n",
    "print(\"Concatenate strings:\", x + x)\n",
    "print(\"Multiply strings   :\", 3 * x)"
   ]
  },
  {
   "cell_type": "markdown",
   "metadata": {},
   "source": [
    "#### Quick Tasks\n",
    "\n",
    "- Convert the list `[\"Python\", \"is\", \"a\", \"fun\", \"language\"]` into a single string.   "
   ]
  },
  {
   "cell_type": "code",
   "execution_count": null,
   "metadata": {},
   "outputs": [],
   "source": []
  },
  {
   "cell_type": "code",
   "execution_count": null,
   "metadata": {},
   "outputs": [],
   "source": []
  },
  {
   "cell_type": "markdown",
   "metadata": {},
   "source": [
    "---\n",
    "\n",
    "## Tuples\n",
    "\n",
    "Tuples are another important Data Structure in Python. Tuples are ordered, and immutable."
   ]
  },
  {
   "cell_type": "code",
   "execution_count": null,
   "metadata": {},
   "outputs": [],
   "source": [
    "# Tuple Operations in Python\n",
    "x = (10, 20, 30)\n",
    "print(x, \"is of type\", type(x))\n",
    "print(\"The third element  :\", x[2])\n",
    "print(\"First two elements :\", x[:2])\n",
    "print(\"Last two elements  :\", x[-2:])\n",
    "print(\"Concatenate tuples :\", x + x)\n",
    "print(\"Multiply tuples    :\", 3 * x)"
   ]
  },
  {
   "cell_type": "markdown",
   "metadata": {},
   "source": [
    "#### Quick Tasks\n",
    "\n",
    "- Find the Dot Product (Scalar Product) of the vectors `(2, 1, -5)` and `(3, 0, 10)`.   "
   ]
  },
  {
   "cell_type": "code",
   "execution_count": null,
   "metadata": {},
   "outputs": [],
   "source": []
  },
  {
   "cell_type": "code",
   "execution_count": null,
   "metadata": {},
   "outputs": [],
   "source": []
  },
  {
   "cell_type": "markdown",
   "metadata": {},
   "source": [
    "---\n",
    "\n",
    "## Data Structure Conversion\n",
    "\n",
    "It is quite easy in Python to convert one Data Structure to another. Especially Lists, Tuples and Strings."
   ]
  },
  {
   "cell_type": "code",
   "execution_count": null,
   "metadata": {},
   "outputs": [],
   "source": [
    "# Data Structure Conversion\n",
    "x = \"Singapore\"\n",
    "print(x, \"is of type\", type(x))\n",
    "print(list(x), \"is of type\", type(list(x)))\n",
    "print(tuple(x), \"is of type\", type(tuple(x)))"
   ]
  },
  {
   "cell_type": "markdown",
   "metadata": {},
   "source": [
    "#### Quick Tasks\n",
    "\n",
    "- Convert the String `\"Python is a fun language\"` into a list of the individual words.   "
   ]
  },
  {
   "cell_type": "code",
   "execution_count": null,
   "metadata": {},
   "outputs": [],
   "source": []
  },
  {
   "cell_type": "code",
   "execution_count": null,
   "metadata": {},
   "outputs": [],
   "source": []
  },
  {
   "cell_type": "markdown",
   "metadata": {},
   "source": [
    "---\n",
    "\n",
    "## Multiple Simultaneous Assignments\n",
    "\n",
    "It is possible in Python to simultaneously assign multiple variables, using Lists or Tuples."
   ]
  },
  {
   "cell_type": "code",
   "execution_count": null,
   "metadata": {},
   "outputs": [],
   "source": [
    "# Multiple Simultaneous Assignments\n",
    "[x, y, z] = [\"Python\", 3.7, \"Singapore\"]\n",
    "print(\"x =\", x, \"   y =\", y, \"   z =\", z)\n",
    "(x, y, z) = (\"Python\", 3.7, \"Singapore\")\n",
    "print(\"x =\", x, \"   y =\", y, \"   z =\", z)\n",
    "x, y, z = \"Python\", 3.7, \"Singapore\"\n",
    "print(\"x =\", x, \"   y =\", y, \"   z =\", z)"
   ]
  },
  {
   "cell_type": "markdown",
   "metadata": {},
   "source": [
    "#### Quick Tasks\n",
    "\n",
    "- Swap the values of two variables `a = 5` and `b = 7`.    "
   ]
  },
  {
   "cell_type": "code",
   "execution_count": null,
   "metadata": {},
   "outputs": [],
   "source": []
  },
  {
   "cell_type": "code",
   "execution_count": null,
   "metadata": {},
   "outputs": [],
   "source": []
  },
  {
   "cell_type": "markdown",
   "metadata": {},
   "source": [
    "---\n",
    "\n",
    "## Sets\n",
    "\n",
    "Set is a handy Data Structure in Python that satisfies all basic properties of a mathematical Set."
   ]
  },
  {
   "cell_type": "code",
   "execution_count": null,
   "metadata": {},
   "outputs": [],
   "source": [
    "# Set Operations\n",
    "x = [10, 20, 30, 40, 50]\n",
    "y = [40, 50, 60, 70]\n",
    "A, B = set(x), set(y)\n",
    "print(\"Union of Sets :\", A.union(B))\n",
    "print(\"Set Intersect :\", A.intersection(B))\n",
    "print(\"Set Difference:\", A.difference(B))"
   ]
  },
  {
   "cell_type": "code",
   "execution_count": null,
   "metadata": {},
   "outputs": [],
   "source": [
    "# Add or Remove from a Set\n",
    "A = set([10, 20, 30, 40, 50])\n",
    "A.add(100)\n",
    "A.remove(30)\n",
    "x = A.pop()\n",
    "print(x, \"popped, leaving behind\", A)"
   ]
  },
  {
   "cell_type": "code",
   "execution_count": null,
   "metadata": {},
   "outputs": [],
   "source": [
    "# Set Relations\n",
    "A = set([10, 20, 30, 40, 50])\n",
    "B = set([20,40])\n",
    "print(A.isdisjoint(B), B.issubset(A), A.issuperset(B))"
   ]
  },
  {
   "cell_type": "markdown",
   "metadata": {},
   "source": [
    "#### Quick Tasks\n",
    "\n",
    "- Remove duplicates from the list `[1, 1, 2, 1, 2, 3, 1, 2, 3, 4]`.    "
   ]
  },
  {
   "cell_type": "code",
   "execution_count": null,
   "metadata": {},
   "outputs": [],
   "source": []
  },
  {
   "cell_type": "code",
   "execution_count": null,
   "metadata": {},
   "outputs": [],
   "source": []
  },
  {
   "cell_type": "markdown",
   "metadata": {},
   "source": [
    "---\n",
    "\n",
    "## Dictionaries\n",
    "\n",
    "Without a doubt, Dictionary is the most versatile Data Structure in Python (may be right after the Lists).   \n",
    "The Dictionary is structured as a collection of `(key, value)` pairs encoded as `{key: value}`."
   ]
  },
  {
   "cell_type": "code",
   "execution_count": null,
   "metadata": {},
   "outputs": [],
   "source": [
    "# Dictionary in Python\n",
    "x = { 1: 'Python', 2: 'at', 3: 'NTU' }\n",
    "print(x, \"is of type\", type(x))"
   ]
  },
  {
   "cell_type": "code",
   "execution_count": null,
   "metadata": {},
   "outputs": [],
   "source": [
    "# Elements in a Dictionary\n",
    "x = { 1: 'Python', 2: 'at', 3: 'NTU' }\n",
    "print(x[1], x[2], x[3])"
   ]
  },
  {
   "cell_type": "code",
   "execution_count": null,
   "metadata": {},
   "outputs": [],
   "source": [
    "# Various types of Keys\n",
    "x = { 1: 'Python', 'Two': 'at', (3): 'NTU' }\n",
    "print(x[1], x[\"Two\"], x[(3)])"
   ]
  },
  {
   "cell_type": "code",
   "execution_count": null,
   "metadata": {},
   "outputs": [],
   "source": [
    "# Strings as Keys as well as Values\n",
    "x = { \"UCL\": \"London\", \"MIT\": \"Cambridge\", \"NTU\": \"Singapore\" }\n",
    "print(\"NTU is located in\", x[\"NTU\"])"
   ]
  },
  {
   "cell_type": "code",
   "execution_count": null,
   "metadata": {},
   "outputs": [],
   "source": [
    "# Lists as Values in a Dictionary\n",
    "x = { \"UCL\": [\"London\", 500], \"MIT\": [\"Cambridge\", 2000] , \"NTU\": [\"Singapore\", 5000] }\n",
    "print(\"NTU is located in\", x[\"NTU\"][0], \"and has\", x[\"NTU\"][1], \"students!\")"
   ]
  },
  {
   "cell_type": "code",
   "execution_count": null,
   "metadata": {},
   "outputs": [],
   "source": [
    "# Items, Keys and Values in a Dictionary\n",
    "x = { \"UCL\": [\"London\", 500], \"MIT\": [\"Cambridge\", 2000] , \"NTU\": [\"Singapore\", 5000] }\n",
    "print(x.items())\n",
    "print(x.keys())\n",
    "print(x.values())"
   ]
  },
  {
   "cell_type": "markdown",
   "metadata": {},
   "source": [
    "#### Quick Tasks\n",
    "\n",
    "- Convert the Dictionary `{\"one\" : 1, \"two\" : 2}` to `{1 : \"one\", 2 : \"two\"}`.   "
   ]
  },
  {
   "cell_type": "code",
   "execution_count": null,
   "metadata": {},
   "outputs": [],
   "source": []
  },
  {
   "cell_type": "code",
   "execution_count": null,
   "metadata": {},
   "outputs": [],
   "source": []
  }
 ],
 "metadata": {
  "kernelspec": {
   "display_name": "Python 3",
   "language": "python",
   "name": "python3"
  },
  "language_info": {
   "codemirror_mode": {
    "name": "ipython",
    "version": 3
   },
   "file_extension": ".py",
   "mimetype": "text/x-python",
   "name": "python",
   "nbconvert_exporter": "python",
   "pygments_lexer": "ipython3",
   "version": "3.8.3"
  }
 },
 "nbformat": 4,
 "nbformat_minor": 2
}
